{
 "cells": [
  {
   "cell_type": "markdown",
   "metadata": {},
   "source": [
    "# Description of Simulation"
   ]
  },
  {
   "cell_type": "markdown",
   "metadata": {},
   "source": [
    "Simulation:\n",
    "Given a 2.44 x 2.44 area, we have an ~18x18 grid of possible can placement positions if we consider all possible can orientations as a given grid square and using the standard size of a can. Each grid unit is 0.122682 x 0.122682 m in reality. (check yousif's notebook)\n",
    "\n",
    "Run an algorithm that randomizes a can location in this 18x18 grid for 6 different cans. Placement examples: (0,1), (7,16), etc... up to (18,18).\n",
    "\n",
    "The rocket is defined as a 4x3 silo arrangement with each silo - 3\"x3\". This equates to roughly a 3x2 grid unit area. We define **drop_off_pos** from the bottom left. So if drop off is at (0,0) we cannot place cans up to 3 grids in the right of and 2 grids above (0,0).\n",
    "\n",
    "The robot is defined as as 10\"x12\" which equates to roughly 2x2 grid unit area. We define **start_pos** as the start location of the robot from bottom left. So if start pos of robot is (0,0), we cannot place cans up to 2 grids in the right of and 2 grids above (0,0).\n",
    "\n",
    "For the simulation any cans generated that lie within the bounds of drop off or start pos will be randomly rearranged. Any cans that are the same as other can pos will also be randomly rearranged.\n",
    "\n",
    "Calculate total distance traveled to collect cans with various techniques:\n",
    "* 1 at a time\n",
    "* All at once, from can to can (goes to first detected can first)\n",
    "* All at once, from can to can but smarter (goes to nearest can first)\n",
    "* add more later\n",
    "\n",
    "Repeat simulation N times, averaging the total distance for N simulations (larger N is better, but takes more time...)\n",
    "\n",
    "\n",
    "Why this simulation might not be a good indication of distances:\n",
    "* Doesn't account for area taken up by robot once it starts moving to can locations, ie. it assumes robot is 1 grid and moves it to another grid\n",
    "* Random can arrangement isnt representative of the competition can pattern, i.e. perhaps 2 cans cant be too close to each other, or some other rules for the pattern generation im missing here\n",
    "* The grid system is a rough approximation\n",
    "* Calculates straight line traversals only regardless of any other cans or rocket in path, i.e. in reality our robot would have to stop to pick them up or traverse around these\n",
    "\n",
    "Regardless, this is better than my previous method...i think.\n",
    "\n",
    "\n"
   ]
  },
  {
   "cell_type": "markdown",
   "metadata": {},
   "source": [
    "# Code"
   ]
  },
  {
   "cell_type": "markdown",
   "metadata": {},
   "source": [
    "## Imports"
   ]
  },
  {
   "cell_type": "code",
   "execution_count": 1,
   "metadata": {},
   "outputs": [],
   "source": [
    "from random import randrange\n",
    "import numpy as np\n",
    "# example : print(randrange(10))"
   ]
  },
  {
   "cell_type": "markdown",
   "metadata": {},
   "source": [
    "## Constants"
   ]
  },
  {
   "cell_type": "code",
   "execution_count": 2,
   "metadata": {},
   "outputs": [],
   "source": [
    "#########Constants#######\n",
    "start_dx = 2\n",
    "start_dy = 2\n",
    "\n",
    "dropoff_dx = 3\n",
    "dropoff_dy = 2\n",
    "\n",
    "MAX_CANS = 6\n",
    "\n",
    "GRID_NUM = 20\n",
    "\n",
    "GRID_UNIT = 0.122682\n",
    "#########################"
   ]
  },
  {
   "cell_type": "markdown",
   "metadata": {},
   "source": [
    "## Utilities"
   ]
  },
  {
   "cell_type": "code",
   "execution_count": 3,
   "metadata": {},
   "outputs": [],
   "source": [
    "#get random can location in 18x18 grid\n",
    "def rand_can():\n",
    "    x = randrange(GRID_NUM+1)\n",
    "    y = randrange(GRID_NUM+1)\n",
    "    \n",
    "    return x,y\n",
    "\n",
    "def dist(p1, p2):\n",
    "    dx = p2[0] - p1[0]\n",
    "    dy = p2[1] - p1[1]\n",
    "    \n",
    "    d = np.sqrt(dx**2 + dy**2)\n",
    "    return d\n",
    "\n",
    "def convert(num):\n",
    "    return num * GRID_UNIT\n",
    "    \n",
    "    "
   ]
  },
  {
   "cell_type": "markdown",
   "metadata": {},
   "source": [
    "## Can Detection Sims"
   ]
  },
  {
   "cell_type": "code",
   "execution_count": 4,
   "metadata": {},
   "outputs": [],
   "source": [
    "#make sure can isnt in start zone\n",
    "def validate_start(can, start):\n",
    "    if(can[0] >= start[0]):\n",
    "        return False\n",
    "    if(can[0] <= start[0] + start_dx -1):\n",
    "        return False\n",
    "    if(can[1] >= start[1]):\n",
    "        return False\n",
    "    if(can[1] <= start[1] + start_dy -1):\n",
    "        return False\n",
    "    \n",
    "    return True\n",
    "\n",
    "#make sure can isnt in drop off zone\n",
    "def validate_dropoff(can, dropoff):\n",
    "    if(can[0] >= dropoff[0]):\n",
    "        return False\n",
    "    if(can[0] <= dropoff[0] + dropoff_dx -1):\n",
    "        return False\n",
    "    if(can[1] >= dropoff[1]):\n",
    "        return False\n",
    "    if(can[1] <= dropoff[1] + dropoff_dy -1):\n",
    "        return False\n",
    "    \n",
    "    return True\n",
    "\n",
    "#make sure can isnt in other can zone\n",
    "def validate_can_locs(can, other_cans):\n",
    "    for can_b in other_cans:\n",
    "        if(can[0] == can_b[0] or can[1] == can_b[1]):\n",
    "            return False\n",
    "        \n",
    "    return True    \n",
    "    "
   ]
  },
  {
   "cell_type": "code",
   "execution_count": 5,
   "metadata": {},
   "outputs": [],
   "source": [
    "#given a start pos and drop off pos for robot and rocket, calculate a random can arrangement\n",
    "def rand_can_arrangement(start_pos, drop_off_pos):\n",
    "    cans = []\n",
    "    while(len(cans) < MAX_CANS):\n",
    "        passed = False\n",
    "        can = rand_can()\n",
    "        \n",
    "        while(passed == False):\n",
    "            can = rand_can()\n",
    "            passed = validate_start(can, start_pos)\n",
    "            passed = validate_dropoff(can, drop_off_pos)\n",
    "            passed = validate_can_locs(can, cans)\n",
    "        \n",
    "        cans.append(can)\n",
    "        \n",
    "    return cans \n",
    "\n",
    "\n",
    "\n",
    "\n",
    "####one at a time####\n",
    "\n",
    "#total distance for one at a time\n",
    "def distance_one(start_pos, drop_off_pos):\n",
    "    cans = rand_can_arrangement(start_pos, drop_off_pos)\n",
    "    \n",
    "    distance = 0\n",
    "    last_pos = start_pos\n",
    "    for can in cans:\n",
    "        distance += dist(last_pos, can) + dist(can, drop_off_pos)\n",
    "        last_pos = drop_off_pos\n",
    "        \n",
    "    return distance\n",
    "\n",
    "#N simulation for one at a time\n",
    "def sim_one(N,start_pos,drop_off_pos):\n",
    "    count = 0\n",
    "    distance = 0\n",
    "    while(count < N):\n",
    "        d = convert(distance_one(start_pos, drop_off_pos))\n",
    "        distance += d\n",
    "        count+=1\n",
    "    \n",
    "    return distance/N  \n",
    "\n",
    "\n",
    "\n",
    "\n",
    "\n",
    "####all at once#####\n",
    "def distance_all(start_pos, drop_off_pos):\n",
    "    cans = rand_can_arrangement(start_pos, drop_off_pos)\n",
    "    \n",
    "    distance = 0\n",
    "    last_pos = start_pos\n",
    "    \n",
    "    for can in cans:\n",
    "        distance += dist(last_pos, can)\n",
    "        last_pos = can\n",
    "        \n",
    "    distance += dist(last_pos, drop_off_pos)    \n",
    "        \n",
    "    return distance\n",
    "\n",
    "#N simulation for all at once\n",
    "def sim_all(N,start_pos,drop_off_pos):\n",
    "    count = 0\n",
    "    distance = 0\n",
    "    while(count < N):\n",
    "        d = convert(distance_all(start_pos, drop_off_pos))\n",
    "        distance += d\n",
    "        count+=1\n",
    "    \n",
    "    return distance/N  \n",
    "\n",
    "\n",
    "\n",
    "\n",
    "\n",
    "\n",
    "####all at once BUT SMARTER#####\n",
    "def get_closest(pos, cans):\n",
    "    closest_can = cans[0]\n",
    "    for can in cans:\n",
    "        if(dist(pos, can) > dist(pos, closest_can)):\n",
    "            closest_can = can\n",
    "    \n",
    "    return closest_can\n",
    "\n",
    "def distance_all_smart(start_pos, drop_off_pos):\n",
    "    cans = rand_can_arrangement(start_pos, drop_off_pos)\n",
    "    \n",
    "    distance = 0\n",
    "    last_pos = start_pos\n",
    "    \n",
    "    for can in cans:\n",
    "        closest_can = get_closest(last_pos, cans)\n",
    "        distance += dist(last_pos, closest_can)\n",
    "        last_pos = closest_can\n",
    "        cans.remove(closest_can)\n",
    "        \n",
    "    distance += dist(last_pos, drop_off_pos)    \n",
    "        \n",
    "    return distance\n",
    "        \n",
    "def sim_all_smart(N,start_pos,drop_off_pos):\n",
    "    count = 0\n",
    "    distance = 0\n",
    "    while(count < N):\n",
    "        d = convert(distance_all_smart(start_pos, drop_off_pos))\n",
    "        distance += d\n",
    "        count+=1\n",
    "    \n",
    "    return distance/N          \n"
   ]
  },
  {
   "cell_type": "markdown",
   "metadata": {},
   "source": [
    "### Sim for all possible positions"
   ]
  },
  {
   "cell_type": "code",
   "execution_count": 6,
   "metadata": {},
   "outputs": [],
   "source": [
    "#simulation for one at a time for all positions\n",
    "def sim_one_pos(N):\n",
    "    best_distance = 1000000\n",
    "    best_start = (0,0)\n",
    "    best_drop = (0,0)\n",
    "    count = 0\n",
    "    \n",
    "    for x_start in range(GRID_NUM):\n",
    "        for y_start in range(GRID_NUM):\n",
    "            for x_drop in range(GRID_NUM):\n",
    "                for y_drop in range(GRID_NUM):\n",
    "                    start_pos = (x_start, y_start)\n",
    "                    drop_off_pos = (x_drop, y_drop)\n",
    "                    \n",
    "                    d = sim_one(N,start_pos,drop_off_pos)\n",
    "                    \n",
    "                    if(d < best_distance):\n",
    "                        best_distance = d\n",
    "                        best_start = start_pos\n",
    "                        best_drop = drop_off_pos\n",
    "                        \n",
    "                    count+=1    \n",
    "                    print('simulation %.3f             percent complete' %(count/104976 *100),end='\\r')    \n",
    "                        \n",
    "    return best_distance, best_start, best_drop\n",
    "                    "
   ]
  },
  {
   "cell_type": "code",
   "execution_count": 7,
   "metadata": {},
   "outputs": [],
   "source": [
    "#simulation for all at once for all positions\n",
    "def sim_all_pos(N):\n",
    "    best_distance = 1000000\n",
    "    best_start = (0,0)\n",
    "    best_drop = (0,0)\n",
    "    count = 0\n",
    "    \n",
    "    for x_start in range(GRID_NUM):\n",
    "        for y_start in range(GRID_NUM):\n",
    "            for x_drop in range(GRID_NUM):\n",
    "                for y_drop in range(GRID_NUM):\n",
    "                    start_pos = (x_start, y_start)\n",
    "                    drop_off_pos = (x_drop, y_drop)\n",
    "                    \n",
    "                    d = sim_all(N,start_pos,drop_off_pos)\n",
    "                    \n",
    "                    if(d < best_distance):\n",
    "                        best_distance = d\n",
    "                        best_start = start_pos\n",
    "                        best_drop = drop_off_pos\n",
    "                        \n",
    "                    count+=1    \n",
    "                    print('simulation %.3f           percent complete' %(count/104976 *100),end='\\r')    \n",
    "                        \n",
    "    return best_distance, best_start, best_drop"
   ]
  },
  {
   "cell_type": "code",
   "execution_count": 8,
   "metadata": {},
   "outputs": [],
   "source": [
    "#simulation for all at once but smart for all positions\n",
    "def sim_all_smart_pos(N):\n",
    "    best_distance = 1000000\n",
    "    best_start = (0,0)\n",
    "    best_drop = (0,0)\n",
    "    count = 0\n",
    "    \n",
    "    for x_start in range(GRID_NUM):\n",
    "        for y_start in range(GRID_NUM):\n",
    "            for x_drop in range(GRID_NUM):\n",
    "                for y_drop in range(GRID_NUM):\n",
    "                    start_pos = (x_start, y_start)\n",
    "                    drop_off_pos = (x_drop, y_drop)\n",
    "                    \n",
    "                    d = sim_all_smart(N,start_pos,drop_off_pos)\n",
    "                    \n",
    "                    if(d < best_distance):\n",
    "                        best_distance = d\n",
    "                        best_start = start_pos\n",
    "                        best_drop = drop_off_pos\n",
    "                        \n",
    "                    count+=1    \n",
    "                    print('simulation %.3f          percent complete' %(count/104976 *100),end='\\r')    \n",
    "                        \n",
    "    return best_distance, best_start, best_drop"
   ]
  },
  {
   "cell_type": "markdown",
   "metadata": {},
   "source": [
    "## Can Sweep Sim"
   ]
  },
  {
   "cell_type": "code",
   "execution_count": 83,
   "metadata": {},
   "outputs": [],
   "source": [
    "#########Constants#######\n",
    "\n",
    "SWEEP_WIDTH = 3\n",
    "SWEEP_HEIGHT = 20\n",
    "\n",
    "ROBOT_WIDTH = 2\n",
    "ROBOT_HEIGHT = 2\n",
    "\n",
    "AREA_W = 20\n",
    "AREA_H = 20\n",
    "\n",
    "#########################"
   ]
  },
  {
   "cell_type": "code",
   "execution_count": 110,
   "metadata": {},
   "outputs": [],
   "source": [
    "def get_bounds(p1, p2):\n",
    "    x1=p1[0]\n",
    "    x2=p2[0]\n",
    "    if(x2 < x1):\n",
    "        x1=p2[0]\n",
    "        x2=p1[0]\n",
    "        \n",
    "    y1=p1[1]\n",
    "    y2=p2[1]\n",
    "    if(y2 < y1):\n",
    "        y1=p2[1]\n",
    "        y2=p1[1]\n",
    "    \n",
    "    return x1, x2, y1, y2\n",
    "\n",
    "#given a list of can arrangments, and sweep path which is essentially points along a path\n",
    "def sweep_cans(sweep_path,sweep_width, cans):\n",
    "    swept = []  \n",
    "    \n",
    "    for i in range(len(sweep_path)):\n",
    "        if(i >= len(sweep_path) -1):\n",
    "            break\n",
    "            \n",
    "        p1 = sweep_path[i]\n",
    "        p2 = sweep_path[i+1]\n",
    "        x1,x2,y1,y2 = get_bounds(p1, p2)\n",
    "            \n",
    "        for can in cans:\n",
    "            if(x1==x2):\n",
    "                if((can[0] >= x1 and can[0] <= x1 + sweep_width)\n",
    "                  and (can[1] >= y1 and can[1] <= y2)):\n",
    "                    if(can not in swept ):\n",
    "                        swept.append(can)\n",
    "            if(y1==y2):\n",
    "                if((can[0] >= x1 and can[0] <= x2)\n",
    "                  and (can[1] >= y1 and can[1] <= y2 + sweep_width)):\n",
    "                    if(can not in swept ):\n",
    "                        swept.append(can)\n",
    "                    \n",
    "                    \n",
    "    return swept    \n",
    "\n",
    "def path_distance(path):\n",
    "    last = path[0]\n",
    "    d= 0\n",
    "    \n",
    "    for point in path:\n",
    "        d += dist(last, point)\n",
    "        last = point\n",
    "    \n",
    "    return d\n",
    "\n",
    "def gen_path(gap, sweep_width):\n",
    "    x = 0\n",
    "    y = 0\n",
    "    dir_count = 1\n",
    "    \n",
    "    xlim = AREA_W - ROBOT_WIDTH + 1 \n",
    "    ylim = AREA_H - ROBOT_HEIGHT + 1 \n",
    "    \n",
    "    path = [(0,0)]\n",
    "    \n",
    "    while(x <= xlim ):\n",
    "        if( dir_count == 1):\n",
    "            y+=ylim\n",
    "        if(dir_count == 2 or dir_count == 4):\n",
    "            if(x + gap + sweep_width <= xlim  ):\n",
    "                x+=gap + sweep_width\n",
    "            else:\n",
    "                x=AREA_W\n",
    "        if(dir_count == 3):  \n",
    "            y-=ylim\n",
    "            \n",
    "        dir_count+=1\n",
    "        \n",
    "        if(dir_count>4):\n",
    "            dir_count=1\n",
    "            \n",
    "        path.append((x,y))\n",
    "        \n",
    "    return path\n",
    "        \n",
    "\n",
    "def sweep(sweep_gap, sweep_width):\n",
    "    path = gen_path(sweep_gap,sweep_width)\n",
    "    \n",
    "    cans = rand_can_arrangement((0,0), (16,0))\n",
    "    swept = sweep_cans(path,sweep_width, cans)\n",
    "    \n",
    "    return swept\n",
    "    \n",
    "def sweep_sim(sweep_gap,sweep_width, N):\n",
    "    count = 0\n",
    "    distance = path_distance(gen_path(sweep_gap, sweep_width))\n",
    "    cans_collected = 0\n",
    "    \n",
    "    while(count < N):\n",
    "        count+=1\n",
    "        cans_collected += len(sweep(sweep_gap,sweep_width))\n",
    "    \n",
    "    return cans_collected/N , convert(distance)\n",
    "        \n",
    "        \n",
    "        "
   ]
  },
  {
   "cell_type": "markdown",
   "metadata": {},
   "source": [
    "### Sweep Paths"
   ]
  },
  {
   "cell_type": "code",
   "execution_count": 73,
   "metadata": {},
   "outputs": [
    {
     "data": {
      "text/plain": [
       "(4.0709, 14.10843)"
      ]
     },
     "execution_count": 73,
     "metadata": {},
     "output_type": "execute_result"
    }
   ],
   "source": [
    "sweep_sim(2, 10000)"
   ]
  },
  {
   "cell_type": "code",
   "execution_count": 116,
   "metadata": {},
   "outputs": [
    {
     "name": "stdout",
     "output_type": "stream",
     "text": [
      "[(0, 0), (0, 19), (4, 19), (4, 0), (8, 0), (8, 19), (12, 19), (12, 0), (16, 0), (16, 19), (20, 19)]\n",
      "[(6, 1), (8, 7), (7, 15), (1, 12), (20, 17), (15, 13)]\n",
      "[(1, 12), (6, 1), (8, 7)]\n"
     ]
    }
   ],
   "source": [
    "p = gen_path(2, 2)\n",
    "c = rand_can_arrangement((0,0), (16,0))\n",
    "s = sweep_cans(p,2,c)\n",
    "print(p)\n",
    "print(c)\n",
    "print(s)"
   ]
  },
  {
   "cell_type": "code",
   "execution_count": 120,
   "metadata": {},
   "outputs": [
    {
     "name": "stdout",
     "output_type": "stream",
     "text": [
      "Sweep distance: 25.763220, Cans collected: 5.914600 \n",
      "\n",
      "Sweep distance: 18.770346, Cans collected: 5.917800 \n",
      "\n",
      "Sweep distance: 14.108430, Cans collected: 4.428400 \n",
      "\n",
      "Sweep distance: 11.777472, Cans collected: 3.679900 \n",
      "\n",
      "Sweep distance: 11.777472, Cans collected: 3.651600 \n",
      "\n",
      "Sweep distance: 9.446514, Cans collected: 2.918100 \n",
      "\n",
      "Sweep distance: 9.446514, Cans collected: 2.948700 \n",
      "\n",
      "Sweep distance: 9.446514, Cans collected: 2.957800 \n",
      "\n",
      "Sweep distance: 7.115556, Cans collected: 2.211400 \n",
      "\n",
      "Sweep distance: 7.115556, Cans collected: 2.186000 \n",
      "\n",
      "Sweep distance: 7.115556, Cans collected: 2.174900 \n",
      "\n",
      "Sweep distance: 7.115556, Cans collected: 2.176700 \n",
      "\n",
      "Sweep distance: 7.115556, Cans collected: 2.151200 \n",
      "\n",
      "Sweep distance: 7.115556, Cans collected: 2.126200 \n",
      "\n",
      "Sweep distance: 7.115556, Cans collected: 2.106200 \n",
      "\n",
      "Sweep distance: 7.115556, Cans collected: 2.103300 \n",
      "\n",
      "Sweep distance: 7.115556, Cans collected: 2.095600 \n",
      "\n",
      "Sweep distance: 7.115556, Cans collected: 1.856400 \n",
      "\n",
      "Sweep distance: 4.784598, Cans collected: 1.348100 \n",
      "\n",
      "Sweep distance: 4.784598, Cans collected: 1.351500 \n",
      "\n"
     ]
    }
   ],
   "source": [
    "for i in range(20):\n",
    "    ans = sweep_sim(i,2, 10000)\n",
    "    print(\"Sweep distance: %f, Cans collected: %f \\n\" %(ans[1], ans[0]))"
   ]
  },
  {
   "cell_type": "markdown",
   "metadata": {},
   "source": [
    "# Running the Simulation"
   ]
  },
  {
   "cell_type": "code",
   "execution_count": 13,
   "metadata": {
    "scrolled": true
   },
   "outputs": [
    {
     "name": "stdout",
     "output_type": "stream",
     "text": [
      "one at a time: 22.312594 metre\n",
      "all at once: 10.344510 metre\n",
      "all at once but smart: 8.906085 metre\n"
     ]
    }
   ],
   "source": [
    "drop_off_pos = (0,0)\n",
    "start_pos = (2,3)\n",
    "N = 10000\n",
    "print('one at a time: %f metre' %sim_one(N,start_pos,drop_off_pos))\n",
    "print('all at once: %f metre' %sim_all(N,start_pos,drop_off_pos))\n",
    "print('all at once but smart: %f metre' %sim_all_smart(N,start_pos,drop_off_pos))"
   ]
  },
  {
   "cell_type": "code",
   "execution_count": 14,
   "metadata": {},
   "outputs": [
    {
     "name": "stdout",
     "output_type": "stream",
     "text": [
      "one at a time: 22.265833 metre\n",
      "all at once: 10.289962 metre\n",
      "all at once but smart: 8.388285 metre\n"
     ]
    }
   ],
   "source": [
    "drop_off_pos = (0,0)\n",
    "start_pos = (17,17)\n",
    "N = 10000\n",
    "print('one at a time: %f metre' %sim_one(N,start_pos,drop_off_pos))\n",
    "print('all at once: %f metre' %sim_all(N,start_pos,drop_off_pos))\n",
    "print('all at once but smart: %f metre' %sim_all_smart(N,start_pos,drop_off_pos))"
   ]
  },
  {
   "cell_type": "code",
   "execution_count": 15,
   "metadata": {},
   "outputs": [
    {
     "name": "stdout",
     "output_type": "stream",
     "text": [
      "one at a time: 17.426372 metre\n",
      "all at once: 9.416758 metre\n",
      "all at once but smart: 7.417634 metre\n"
     ]
    }
   ],
   "source": [
    "drop_off_pos = (8,0)\n",
    "start_pos = (9,9)\n",
    "N = 10000\n",
    "print('one at a time: %f metre' %sim_one(N,start_pos,drop_off_pos))\n",
    "print('all at once: %f metre' %sim_all(N,start_pos,drop_off_pos))\n",
    "print('all at once but smart: %f metre' %sim_all_smart(N,start_pos,drop_off_pos))"
   ]
  },
  {
   "cell_type": "code",
   "execution_count": 16,
   "metadata": {},
   "outputs": [
    {
     "name": "stdout",
     "output_type": "stream",
     "text": [
      "one at a time: 12.561398 metre\n",
      "all at once: 9.001882 metre\n",
      "all at once but smart: 6.986585 metre\n"
     ]
    }
   ],
   "source": [
    "drop_off_pos = (8,7)\n",
    "start_pos = (9,9)\n",
    "N = 10000\n",
    "print('one at a time: %f metre' %sim_one(N,start_pos,drop_off_pos))\n",
    "print('all at once: %f metre' %sim_all(N,start_pos,drop_off_pos))\n",
    "print('all at once but smart: %f metre' %sim_all_smart(N,start_pos,drop_off_pos))"
   ]
  },
  {
   "cell_type": "code",
   "execution_count": null,
   "metadata": {},
   "outputs": [],
   "source": []
  }
 ],
 "metadata": {
  "kernelspec": {
   "display_name": "Python 3",
   "language": "python",
   "name": "python3"
  },
  "language_info": {
   "codemirror_mode": {
    "name": "ipython",
    "version": 3
   },
   "file_extension": ".py",
   "mimetype": "text/x-python",
   "name": "python",
   "nbconvert_exporter": "python",
   "pygments_lexer": "ipython3",
   "version": "3.8.5"
  },
  "toc": {
   "base_numbering": 1,
   "nav_menu": {},
   "number_sections": true,
   "sideBar": true,
   "skip_h1_title": false,
   "title_cell": "Table of Contents",
   "title_sidebar": "Contents",
   "toc_cell": false,
   "toc_position": {},
   "toc_section_display": true,
   "toc_window_display": true
  },
  "varInspector": {
   "cols": {
    "lenName": 16,
    "lenType": 16,
    "lenVar": 40
   },
   "kernels_config": {
    "python": {
     "delete_cmd_postfix": "",
     "delete_cmd_prefix": "del ",
     "library": "var_list.py",
     "varRefreshCmd": "print(var_dic_list())"
    },
    "r": {
     "delete_cmd_postfix": ") ",
     "delete_cmd_prefix": "rm(",
     "library": "var_list.r",
     "varRefreshCmd": "cat(var_dic_list()) "
    }
   },
   "types_to_exclude": [
    "module",
    "function",
    "builtin_function_or_method",
    "instance",
    "_Feature"
   ],
   "window_display": false
  }
 },
 "nbformat": 4,
 "nbformat_minor": 4
}
